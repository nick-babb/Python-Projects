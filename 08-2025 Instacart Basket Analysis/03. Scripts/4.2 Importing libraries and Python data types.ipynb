{
 "cells": [
  {
   "cell_type": "markdown",
   "id": "b5b8c4b3-4c60-4b2e-9242-55380aaf1e5c",
   "metadata": {},
   "source": [
    "# 01. Importing Libaries"
   ]
  },
  {
   "cell_type": "code",
   "execution_count": 1,
   "id": "4b8e4a5f-90bf-46b5-9174-e31904b1d0ae",
   "metadata": {},
   "outputs": [],
   "source": [
    "# Import libraries\n",
    "import pandas as pd\n",
    "import numpy as np\n",
    "import os"
   ]
  },
  {
   "cell_type": "markdown",
   "id": "13ea9356-7b9d-465c-8138-faf0e306269e",
   "metadata": {},
   "source": [
    "# 02. Data Types"
   ]
  },
  {
   "cell_type": "code",
   "execution_count": 3,
   "id": "4d2cbe0a-5a45-4de2-ba7b-518557a5b4b9",
   "metadata": {},
   "outputs": [],
   "source": [
    "x = 2"
   ]
  },
  {
   "cell_type": "code",
   "execution_count": 4,
   "id": "23d6b2b3-c659-4c58-979e-977de8cf8ff2",
   "metadata": {},
   "outputs": [
    {
     "data": {
      "text/plain": [
       "2"
      ]
     },
     "execution_count": 4,
     "metadata": {},
     "output_type": "execute_result"
    }
   ],
   "source": [
    "x"
   ]
  },
  {
   "cell_type": "code",
   "execution_count": 5,
   "id": "18aaad61-670d-4c37-8fa9-5e19358d8916",
   "metadata": {},
   "outputs": [
    {
     "name": "stdout",
     "output_type": "stream",
     "text": [
      "2\n"
     ]
    }
   ],
   "source": [
    "print(x)"
   ]
  },
  {
   "cell_type": "code",
   "execution_count": 6,
   "id": "a2900656-0da4-4cd9-ba7e-1718f5004cd1",
   "metadata": {},
   "outputs": [
    {
     "data": {
      "text/plain": [
       "int"
      ]
     },
     "execution_count": 6,
     "metadata": {},
     "output_type": "execute_result"
    }
   ],
   "source": [
    "type(x)"
   ]
  },
  {
   "cell_type": "code",
   "execution_count": 7,
   "id": "95ddeec1-1e78-438b-97b3-8c0b17aaef73",
   "metadata": {},
   "outputs": [],
   "source": [
    "y = 5.678"
   ]
  },
  {
   "cell_type": "code",
   "execution_count": 8,
   "id": "7404a9ef-ab22-4e83-94e9-ac4c1a10384d",
   "metadata": {},
   "outputs": [
    {
     "data": {
      "text/plain": [
       "float"
      ]
     },
     "execution_count": 8,
     "metadata": {},
     "output_type": "execute_result"
    }
   ],
   "source": [
    "type(y)"
   ]
  },
  {
   "cell_type": "code",
   "execution_count": 9,
   "id": "d4e4d0c5-268b-48bc-b6f4-abfa204dee8a",
   "metadata": {},
   "outputs": [],
   "source": [
    "z = 'Brazil'"
   ]
  },
  {
   "cell_type": "code",
   "execution_count": 10,
   "id": "df34c033-468e-4e8b-b77a-1e86344cef4b",
   "metadata": {},
   "outputs": [
    {
     "data": {
      "text/plain": [
       "str"
      ]
     },
     "execution_count": 10,
     "metadata": {},
     "output_type": "execute_result"
    }
   ],
   "source": [
    "type(z)"
   ]
  },
  {
   "cell_type": "code",
   "execution_count": 11,
   "id": "3069af93-984d-4f1b-9cd4-2e0878f312e3",
   "metadata": {},
   "outputs": [
    {
     "data": {
      "text/plain": [
       "str"
      ]
     },
     "execution_count": 11,
     "metadata": {},
     "output_type": "execute_result"
    }
   ],
   "source": [
    "type('Mania')"
   ]
  },
  {
   "cell_type": "code",
   "execution_count": 13,
   "id": "7b952353-57da-4712-a7f5-1b3772ce0501",
   "metadata": {},
   "outputs": [
    {
     "data": {
      "text/plain": [
       "bool"
      ]
     },
     "execution_count": 13,
     "metadata": {},
     "output_type": "execute_result"
    }
   ],
   "source": [
    "type(True)"
   ]
  },
  {
   "cell_type": "code",
   "execution_count": 14,
   "id": "7fb326dc-fe92-46d4-b5be-ed9892ba55f6",
   "metadata": {},
   "outputs": [
    {
     "data": {
      "text/plain": [
       "bool"
      ]
     },
     "execution_count": 14,
     "metadata": {},
     "output_type": "execute_result"
    }
   ],
   "source": [
    "type(False)"
   ]
  },
  {
   "cell_type": "code",
   "execution_count": 15,
   "id": "cd6694ad-7f51-4d77-bab9-b938288787c4",
   "metadata": {},
   "outputs": [
    {
     "data": {
      "text/plain": [
       "6"
      ]
     },
     "execution_count": 15,
     "metadata": {},
     "output_type": "execute_result"
    }
   ],
   "source": [
    "x+4"
   ]
  },
  {
   "cell_type": "code",
   "execution_count": 16,
   "id": "c1236706-354f-4901-99a7-48a68e382b36",
   "metadata": {},
   "outputs": [],
   "source": [
    "x=x+4"
   ]
  },
  {
   "cell_type": "code",
   "execution_count": 17,
   "id": "7a625986-4604-42e8-b4b9-1ebf61fe278f",
   "metadata": {},
   "outputs": [
    {
     "name": "stdout",
     "output_type": "stream",
     "text": [
      "6\n"
     ]
    }
   ],
   "source": [
    "print(x)"
   ]
  },
  {
   "cell_type": "code",
   "execution_count": 18,
   "id": "88227fbc-5f20-4be4-9a6b-6e8096ba18a7",
   "metadata": {},
   "outputs": [
    {
     "data": {
      "text/plain": [
       "False"
      ]
     },
     "execution_count": 18,
     "metadata": {},
     "output_type": "execute_result"
    }
   ],
   "source": [
    "x==y"
   ]
  },
  {
   "cell_type": "code",
   "execution_count": 19,
   "id": "513d66f5-ce4c-4f8d-8a0b-92e7c7ca7c39",
   "metadata": {},
   "outputs": [
    {
     "data": {
      "text/plain": [
       "bool"
      ]
     },
     "execution_count": 19,
     "metadata": {},
     "output_type": "execute_result"
    }
   ],
   "source": [
    "type(x==y)"
   ]
  },
  {
   "cell_type": "markdown",
   "id": "ea4f82bc-0154-49d0-aca9-1462f34c7cea",
   "metadata": {},
   "source": [
    "# 03. Working with Python data types"
   ]
  },
  {
   "cell_type": "code",
   "execution_count": 20,
   "id": "9feb1698-e164-48ec-b6fb-ac7c072681d9",
   "metadata": {},
   "outputs": [],
   "source": [
    "a = 50\n",
    "b = 40\n",
    "c = 2"
   ]
  },
  {
   "cell_type": "code",
   "execution_count": 21,
   "id": "4910d10c-7700-4a19-aad9-469942c71ff5",
   "metadata": {},
   "outputs": [
    {
     "data": {
      "text/plain": [
       "100"
      ]
     },
     "execution_count": 21,
     "metadata": {},
     "output_type": "execute_result"
    }
   ],
   "source": [
    "a*2"
   ]
  },
  {
   "cell_type": "code",
   "execution_count": 22,
   "id": "4a83a078-5fac-4709-b697-216ad9792a46",
   "metadata": {},
   "outputs": [
    {
     "data": {
      "text/plain": [
       "100"
      ]
     },
     "execution_count": 22,
     "metadata": {},
     "output_type": "execute_result"
    }
   ],
   "source": [
    "(a-b)*10"
   ]
  },
  {
   "cell_type": "code",
   "execution_count": 23,
   "id": "895d5a71-7059-4f55-8664-752ac51a3d2d",
   "metadata": {},
   "outputs": [
    {
     "data": {
      "text/plain": [
       "100"
      ]
     },
     "execution_count": 23,
     "metadata": {},
     "output_type": "execute_result"
    }
   ],
   "source": [
    "a+b+(a-b)"
   ]
  },
  {
   "cell_type": "code",
   "execution_count": 24,
   "id": "3f242650-b667-4294-953a-71a4777651cc",
   "metadata": {},
   "outputs": [],
   "source": [
    "d=6.79\n",
    "e=3.92"
   ]
  },
  {
   "cell_type": "code",
   "execution_count": 25,
   "id": "0833bb5b-4d72-4170-a849-8ea60521e700",
   "metadata": {},
   "outputs": [
    {
     "data": {
      "text/plain": [
       "1.7321428571428572"
      ]
     },
     "execution_count": 25,
     "metadata": {},
     "output_type": "execute_result"
    }
   ],
   "source": [
    "d/e"
   ]
  },
  {
   "cell_type": "code",
   "execution_count": 27,
   "id": "986dcf03-b31a-4f24-8fed-138b2ed76109",
   "metadata": {},
   "outputs": [],
   "source": [
    "f='beau'\n",
    "g='tiful'\n",
    "h='ly'"
   ]
  },
  {
   "cell_type": "code",
   "execution_count": 28,
   "id": "349f0016-9b73-45d2-b761-1be47940601c",
   "metadata": {},
   "outputs": [
    {
     "data": {
      "text/plain": [
       "'beautifully'"
      ]
     },
     "execution_count": 28,
     "metadata": {},
     "output_type": "execute_result"
    }
   ],
   "source": [
    "f+g+h"
   ]
  },
  {
   "cell_type": "code",
   "execution_count": 29,
   "id": "395be4d9-47b6-4ed1-b07b-3ed89f5eedf9",
   "metadata": {},
   "outputs": [],
   "source": [
    "i='i'\n",
    "j='think'\n",
    "k='might be'\n",
    "l='getting'\n",
    "m='the'\n",
    "n='hang of this'"
   ]
  },
  {
   "cell_type": "code",
   "execution_count": 32,
   "id": "126cb662-6f5c-4d52-88cb-9634dc2bf9f7",
   "metadata": {},
   "outputs": [
    {
     "data": {
      "text/plain": [
       "'i think i might be getting the hang of this'"
      ]
     },
     "execution_count": 32,
     "metadata": {},
     "output_type": "execute_result"
    }
   ],
   "source": [
    "i+\" \"+j+\" \"+i+\" \"+k+\" \"+l+\" \"+m+\" \"+n"
   ]
  },
  {
   "cell_type": "code",
   "execution_count": 33,
   "id": "79e09402-cf55-45ef-ab43-49ca679e5181",
   "metadata": {},
   "outputs": [
    {
     "data": {
      "text/plain": [
       "'beautifullybeautifullybeautifullybeautifullybeautifullybeautifullybeautifullybeautifullybeautifullybeautifullybeautifullybeautifullybeautifullybeautifullybeautifullybeautifullybeautifullybeautifullybeautifullybeautifullybeautifullybeautifullybeautifullybeautifullybeautifullybeautifullybeautifullybeautifullybeautifullybeautifullybeautifullybeautifullybeautifullybeautifullybeautifullybeautifullybeautifullybeautifullybeautifullybeautifullybeautifullybeautifullybeautifullybeautifullybeautifullybeautifullybeautifullybeautifullybeautifullybeautifullybeautifullybeautifullybeautifullybeautifullybeautifullybeautifullybeautifullybeautifullybeautifullybeautifullybeautifullybeautifullybeautifullybeautifullybeautifullybeautifullybeautifullybeautifullybeautifullybeautifullybeautifullybeautifullybeautifullybeautifullybeautifullybeautifullybeautifullybeautifullybeautifullybeautifullybeautifullybeautifullybeautifullybeautifullybeautifullybeautifullybeautifullybeautifullybeautifullybeautifullybeautifullybeautifullybeautifullybeautifullybeautifullybeautifullybeautifullybeautifullybeautifullybeautifully'"
      ]
     },
     "execution_count": 33,
     "metadata": {},
     "output_type": "execute_result"
    }
   ],
   "source": [
    "(f+g+h)*100"
   ]
  },
  {
   "cell_type": "code",
   "execution_count": null,
   "id": "1e21a81b-a7c2-4d0b-a2df-7fd3d5df01c7",
   "metadata": {},
   "outputs": [],
   "source": []
  }
 ],
 "metadata": {
  "kernelspec": {
   "display_name": "Python [conda env:base] *",
   "language": "python",
   "name": "conda-base-py"
  },
  "language_info": {
   "codemirror_mode": {
    "name": "ipython",
    "version": 3
   },
   "file_extension": ".py",
   "mimetype": "text/x-python",
   "name": "python",
   "nbconvert_exporter": "python",
   "pygments_lexer": "ipython3",
   "version": "3.13.5"
  }
 },
 "nbformat": 4,
 "nbformat_minor": 5
}
